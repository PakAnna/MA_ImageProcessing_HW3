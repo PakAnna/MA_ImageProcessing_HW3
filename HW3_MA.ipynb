{
 "cells": [
  {
   "cell_type": "markdown",
   "id": "d63b0950",
   "metadata": {},
   "source": [
    "Apply magnification, minification,  rotation,  Mirroring.  Add [take one more image] and subtract [take one more image] operation\n",
    "\n",
    "(include input and output image with code and brief explanation and submit in zip format)"
   ]
  },
  {
   "cell_type": "code",
   "execution_count": 1,
   "id": "e6bc4090",
   "metadata": {},
   "outputs": [],
   "source": [
    "from PIL import Image, ImageOps\n",
    "import cv2"
   ]
  },
  {
   "cell_type": "code",
   "execution_count": 2,
   "id": "78c683bd",
   "metadata": {},
   "outputs": [],
   "source": [
    "i_name = 'test12'\n",
    "i_format = '.png'\n",
    "\n",
    "img_name = i_name + i_format\n",
    "img_mag_name = i_name + '_mag' + i_format #Magnification\n",
    "img_min_name = i_name + '_min' + i_format #Minification\n",
    "img_rot_name = i_name + '_rot' + i_format #Rotation\n",
    "img_mir_name = i_name + '_mir' + i_format #Mirroring\n",
    "img_add_name = i_name + '_add' + i_format #Addition\n",
    "img_sub_name = i_name + '_sub' + i_format #Subtraction"
   ]
  },
  {
   "cell_type": "markdown",
   "id": "73fbdade",
   "metadata": {},
   "source": [
    "# Magnification and Minification"
   ]
  },
  {
   "cell_type": "code",
   "execution_count": 3,
   "id": "9fe5afe2",
   "metadata": {},
   "outputs": [],
   "source": [
    "image = cv2.imread(img_name, 1)"
   ]
  },
  {
   "cell_type": "markdown",
   "id": "a866b9a1",
   "metadata": {},
   "source": [
    "### Magnification"
   ]
  },
  {
   "cell_type": "code",
   "execution_count": 4,
   "id": "3524e2df",
   "metadata": {},
   "outputs": [
    {
     "data": {
      "text/plain": [
       "True"
      ]
     },
     "execution_count": 4,
     "metadata": {},
     "output_type": "execute_result"
    }
   ],
   "source": [
    "#scaleX is scale factor in x direction\n",
    "scaleX = 2.0\n",
    "#scaleY is scale factor in y direction\n",
    "scaleY = 2.0\n",
    "\n",
    "#Scaling up the image scaleX and scaleY time = Magnification\n",
    "mag_image = cv2.resize(image, None, fx= scaleX, fy= scaleY, interpolation= cv2.INTER_LINEAR)\n",
    "\n",
    "cv2.imwrite(img_mag_name, mag_image)"
   ]
  },
  {
   "cell_type": "markdown",
   "id": "aad1e7db",
   "metadata": {},
   "source": [
    "### Minification"
   ]
  },
  {
   "cell_type": "code",
   "execution_count": 5,
   "id": "2b0b10ff",
   "metadata": {},
   "outputs": [
    {
     "data": {
      "text/plain": [
       "True"
      ]
     },
     "execution_count": 5,
     "metadata": {},
     "output_type": "execute_result"
    }
   ],
   "source": [
    "#scaleX is scale factor in x direction\n",
    "scaleX = 0.5\n",
    "#scaleY is scale factor in y direction\n",
    "scaleY = 0.5\n",
    "\n",
    "#Scaling Down the image scaleX and scaleY times = Minification\n",
    "min_image = cv2.resize(image, None, fx= scaleX, fy= scaleY, interpolation= cv2.INTER_LINEAR)\n",
    "\n",
    "cv2.imwrite(img_min_name, min_image)"
   ]
  },
  {
   "cell_type": "markdown",
   "id": "d873ff4a",
   "metadata": {},
   "source": [
    "# Rotation and Mirroring"
   ]
  },
  {
   "cell_type": "code",
   "execution_count": 6,
   "id": "496e26b2",
   "metadata": {},
   "outputs": [],
   "source": [
    "image = Image.open(img_name)"
   ]
  },
  {
   "cell_type": "markdown",
   "id": "cc59f3a7",
   "metadata": {},
   "source": [
    "### Rotation"
   ]
  },
  {
   "cell_type": "code",
   "execution_count": 8,
   "id": "a11d4570",
   "metadata": {},
   "outputs": [],
   "source": [
    "angle = 45\n",
    "\n",
    "rot_image = image.rotate(angle)\n",
    "\n",
    "rot_image.save(img_rot_name)"
   ]
  },
  {
   "cell_type": "markdown",
   "id": "a4e9ca32",
   "metadata": {},
   "source": [
    "### Mirroring"
   ]
  },
  {
   "cell_type": "code",
   "execution_count": 9,
   "id": "6ad88ab9",
   "metadata": {},
   "outputs": [],
   "source": [
    "mir_image = ImageOps.mirror(image)\n",
    "\n",
    "mir_image.save(img_mir_name)"
   ]
  },
  {
   "cell_type": "markdown",
   "id": "185c15ab",
   "metadata": {},
   "source": [
    "# Addition and Subtraction"
   ]
  },
  {
   "cell_type": "markdown",
   "id": "0a8fd09b",
   "metadata": {},
   "source": [
    "### Addition"
   ]
  },
  {
   "cell_type": "code",
   "execution_count": 10,
   "id": "5266c227",
   "metadata": {},
   "outputs": [
    {
     "data": {
      "text/plain": [
       "True"
      ]
     },
     "execution_count": 10,
     "metadata": {},
     "output_type": "execute_result"
    }
   ],
   "source": [
    "image = cv2.imread(img_name, 1)\n",
    "image_a = cv2.imread('add_image.jpg')\n",
    " \n",
    "added_image = cv2.add(image, image_a)\n",
    "\n",
    "cv2.imwrite(img_add_name, added_image)"
   ]
  },
  {
   "cell_type": "markdown",
   "id": "a9477eeb",
   "metadata": {},
   "source": [
    "### Subtraction"
   ]
  },
  {
   "cell_type": "code",
   "execution_count": 11,
   "id": "bd3265db",
   "metadata": {},
   "outputs": [
    {
     "data": {
      "text/plain": [
       "True"
      ]
     },
     "execution_count": 11,
     "metadata": {},
     "output_type": "execute_result"
    }
   ],
   "source": [
    "image = cv2.imread(img_add_name, 1)\n",
    "image_s = cv2.imread('subtract_image.jpg')\n",
    "\n",
    "subtracted_image = cv2.subtract(image,image_s)\n",
    "\n",
    "cv2.imwrite(img_sub_name, subtracted_image)"
   ]
  }
 ],
 "metadata": {
  "kernelspec": {
   "display_name": "Python 3 (ipykernel)",
   "language": "python",
   "name": "python3"
  },
  "language_info": {
   "codemirror_mode": {
    "name": "ipython",
    "version": 3
   },
   "file_extension": ".py",
   "mimetype": "text/x-python",
   "name": "python",
   "nbconvert_exporter": "python",
   "pygments_lexer": "ipython3",
   "version": "3.9.7"
  }
 },
 "nbformat": 4,
 "nbformat_minor": 5
}
